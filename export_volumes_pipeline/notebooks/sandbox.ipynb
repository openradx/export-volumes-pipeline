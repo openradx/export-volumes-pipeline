{
 "cells": [
  {
   "cell_type": "code",
   "execution_count": 1,
   "metadata": {},
   "outputs": [],
   "source": [
    "import os\n",
    "\n",
    "from adit_client import AditClient\n",
    "from dotenv import load_dotenv\n",
    "\n",
    "load_dotenv()\n",
    "\n",
    "os.environ[\"no_proxy\"] = \"localhost,127.0.0.1,adit.krz.uni-heidelberg.de\"\n",
    "\n",
    "host = os.environ[\"ADIT_HOST\"]\n",
    "token = os.environ[\"ADIT_AUTH_TOKEN\"]"
   ]
  },
  {
   "cell_type": "code",
   "execution_count": 8,
   "metadata": {},
   "outputs": [
    {
     "data": {
      "text/plain": [
       "[(0008, 0005) Specific Character Set              CS: 'ISO_IR 100'\n",
       " (0008, 0052) Query/Retrieve Level                CS: 'SERIES'\n",
       " (0008, 0054) Retrieve AE Title                   AE: 'ORTHANC1'\n",
       " (0008, 0060) Modality                            CS: 'MR'\n",
       " (0008, 103e) Series Description                  LO: 't1_mprage_tra_nativ'\n",
       " (0010, 0020) Patient ID                          LO: '1005'\n",
       " (0020, 000d) Study Instance UID                  UI: 1.2.840.113845.11.1000000001951524609.20200705163958.2689467\n",
       " (0020, 000e) Series Instance UID                 UI: 1.3.12.2.1107.5.2.18.41369.2020070516582618533014546.0.0.0\n",
       " (0020, 0011) Series Number                       IS: '6'\n",
       " (0020, 1209) Number of Series Related Instances  IS: '4',\n",
       " (0008, 0005) Specific Character Set              CS: 'ISO_IR 100'\n",
       " (0008, 0052) Query/Retrieve Level                CS: 'SERIES'\n",
       " (0008, 0054) Retrieve AE Title                   AE: 'ORTHANC1'\n",
       " (0008, 0060) Modality                            CS: 'MR'\n",
       " (0008, 103e) Series Description                  LO: 't2_tse_tra 5mm'\n",
       " (0010, 0020) Patient ID                          LO: '1005'\n",
       " (0020, 000d) Study Instance UID                  UI: 1.2.840.113845.11.1000000001951524609.20200705163958.2689467\n",
       " (0020, 000e) Series Instance UID                 UI: 1.3.12.2.1107.5.2.18.41369.2020070516551348090513757.0.0.0\n",
       " (0020, 0011) Series Number                       IS: '5'\n",
       " (0020, 1209) Number of Series Related Instances  IS: '4',\n",
       " (0008, 0005) Specific Character Set              CS: 'ISO_IR 100'\n",
       " (0008, 0052) Query/Retrieve Level                CS: 'SERIES'\n",
       " (0008, 0054) Retrieve AE Title                   AE: 'ORTHANC1'\n",
       " (0008, 0060) Modality                            CS: 'MR'\n",
       " (0008, 103e) Series Description                  LO: 'SWI_Images'\n",
       " (0010, 0020) Patient ID                          LO: '1005'\n",
       " (0020, 000d) Study Instance UID                  UI: 1.2.840.113845.11.1000000001951524609.20200705163958.2689467\n",
       " (0020, 000e) Series Instance UID                 UI: 1.3.12.2.1107.5.2.18.41369.2020070516585256532215651.0.0.0\n",
       " (0020, 0011) Series Number                       IS: '8'\n",
       " (0020, 1209) Number of Series Related Instances  IS: '4',\n",
       " (0008, 0005) Specific Character Set              CS: 'ISO_IR 100'\n",
       " (0008, 0052) Query/Retrieve Level                CS: 'SERIES'\n",
       " (0008, 0054) Retrieve AE Title                   AE: 'ORTHANC1'\n",
       " (0008, 0060) Modality                            CS: 'MR'\n",
       " (0008, 103e) Series Description                  LO: 'AAHead_Scout'\n",
       " (0010, 0020) Patient ID                          LO: '1005'\n",
       " (0020, 000d) Study Instance UID                  UI: 1.2.840.113845.11.1000000001951524609.20200705163958.2689467\n",
       " (0020, 000e) Series Instance UID                 UI: 1.3.12.2.1107.5.2.18.41369.2020070516513796467312554.0.0.0\n",
       " (0020, 0011) Series Number                       IS: '1'\n",
       " (0020, 1209) Number of Series Related Instances  IS: '4']"
      ]
     },
     "execution_count": 8,
     "metadata": {},
     "output_type": "execute_result"
    }
   ],
   "source": [
    "client = AditClient(host, token)\n",
    "studies = client.search_for_studies(\"ORTHANC1\", {\"PatientID\": \"1005\"})\n",
    "study = studies[0]\n",
    "series = client.search_for_series(\"ORTHANC1\", study.StudyInstanceUID)\n",
    "series = [s for s in series if s.NumberOfSeriesRelatedInstances > 1]\n",
    "series\n"
   ]
  },
  {
   "cell_type": "code",
   "execution_count": 11,
   "metadata": {},
   "outputs": [
    {
     "name": "stdout",
     "output_type": "stream",
     "text": [
      "1980-01-01\n"
     ]
    },
    {
     "data": {
      "text/plain": [
       "{'patient_birth_date': datetime.date(1980, 1, 1),\n",
       " 'study_datetime': datetime.datetime(2024, 2, 15, 7, 55, 3, 67044)}"
      ]
     },
     "execution_count": 11,
     "metadata": {},
     "output_type": "execute_result"
    }
   ],
   "source": [
    "from datetime import date, datetime\n",
    "\n",
    "from pydantic import BaseModel\n",
    "\n",
    "\n",
    "class Study(BaseModel):\n",
    "    patient_birth_date: date\n",
    "    study_datetime: datetime\n",
    "\n",
    "\n",
    "now = datetime.now().isoformat()\n",
    "\n",
    "study = Study(patient_birth_date=\"1980-01-01\", study_datetime=now)\n",
    "\n",
    "print(date(1980, 1, 1).isoformat())\n",
    "\n",
    "study.model_dump()"
   ]
  },
  {
   "cell_type": "code",
   "execution_count": 19,
   "metadata": {},
   "outputs": [
    {
     "data": {
      "text/plain": [
       "[1, 2]"
      ]
     },
     "execution_count": 19,
     "metadata": {},
     "output_type": "execute_result"
    }
   ],
   "source": [
    "from pandas import DataFrame\n",
    "\n",
    "df = DataFrame([{\"a\": 1, \"b\": [1, 2]}, {\"a\": 3, \"b\": [3, 4]}])\n",
    "\n",
    "df[\"b\"][0]"
   ]
  }
 ],
 "metadata": {
  "kernelspec": {
   "display_name": ".venv",
   "language": "python",
   "name": "python3"
  },
  "language_info": {
   "codemirror_mode": {
    "name": "ipython",
    "version": 3
   },
   "file_extension": ".py",
   "mimetype": "text/x-python",
   "name": "python",
   "nbconvert_exporter": "python",
   "pygments_lexer": "ipython3",
   "version": "3.12.7"
  },
  "orig_nbformat": 4
 },
 "nbformat": 4,
 "nbformat_minor": 2
}
